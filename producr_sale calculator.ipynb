{
 "cells": [
  {
   "cell_type": "markdown",
   "id": "048fe0e5",
   "metadata": {},
   "source": [
    "Step 1: Create a DataFrame from the list of dictionaries below:\n",
    "\n",
    "[{'product_id':23, 'name':'computer', 'wholesale_price': 500, 'retail_price':1000, 'sales':100}, \n",
    "{'product_id':96, 'name':'Python Workout', 'wholesale_price': 35,'retail_price':75, 'sales':1000},\n",
    "{'product_id':97, 'name':'Pandas Workout', 'wholesale_price': 35, 'retail_price':75, 'sales':500},\n",
    "{'product_id':15, 'name':'banana', 'wholesale_price': 0.5,'retail_price':1, 'sales':200},\n",
    "{'product_id':87, 'name':'sandwich', 'wholesale_price': 3,'retail_price':5, 'sales':300}]\n",
    "\n",
    "\n",
    "Step 2:  Calculate the Total Profit for each product using the formula \n",
    "\n",
    "```\n",
    "\n",
    "net_revenue_per_product = (retail_price - wholesale price) * sales\n",
    "```\n",
    "\n",
    "Step 3: Determine the following\n",
    "\n",
    "- How much total net revenue you received from all of these sales?\n",
    "\n",
    "- What product is product retail price more than twice the wholesale price?\n",
    "\n",
    "- How much did the store make from food vs. computers vs. books?\n",
    "\n",
    "- Because your store is doing so well, you’re able to negotiate a 30% discount on the wholesale price of goods. Calculate the new net revenue"
   ]
  },
  {
   "cell_type": "code",
   "execution_count": 1,
   "id": "957e228f",
   "metadata": {},
   "outputs": [],
   "source": [
    "import pandas as pd"
   ]
  },
  {
   "cell_type": "code",
   "execution_count": 2,
   "id": "14225976",
   "metadata": {},
   "outputs": [],
   "source": [
    "products=[{'product_id':23, 'name':'computer', 'wholesale_price': 500, 'retail_price':1000, 'sales':100}, \n",
    "{'product_id':96, 'name':'Python Workout', 'wholesale_price': 35,'retail_price':75, 'sales':1000},\n",
    "{'product_id':97, 'name':'Pandas Workout', 'wholesale_price': 35, 'retail_price':75, 'sales':500},\n",
    "{'product_id':15, 'name':'banana', 'wholesale_price': 0.5,'retail_price':1, 'sales':200},\n",
    "{'product_id':87, 'name':'sandwich', 'wholesale_price': 3,'retail_price':5, 'sales':300}]"
   ]
  },
  {
   "cell_type": "markdown",
   "id": "1467b34b",
   "metadata": {},
   "source": [
    "## Step 1\n",
    "Create a dataframe"
   ]
  },
  {
   "cell_type": "code",
   "execution_count": 3,
   "id": "d52baa8f",
   "metadata": {},
   "outputs": [],
   "source": [
    "dataframe= pd.DataFrame(products)\n"
   ]
  },
  {
   "cell_type": "code",
   "execution_count": 4,
   "id": "e9cca8cc",
   "metadata": {},
   "outputs": [],
   "source": [
    "dataframe.set_index('product_id',inplace=True)"
   ]
  },
  {
   "cell_type": "code",
   "execution_count": 5,
   "id": "67eac4bf",
   "metadata": {},
   "outputs": [
    {
     "data": {
      "text/html": [
       "<div>\n",
       "<style scoped>\n",
       "    .dataframe tbody tr th:only-of-type {\n",
       "        vertical-align: middle;\n",
       "    }\n",
       "\n",
       "    .dataframe tbody tr th {\n",
       "        vertical-align: top;\n",
       "    }\n",
       "\n",
       "    .dataframe thead th {\n",
       "        text-align: right;\n",
       "    }\n",
       "</style>\n",
       "<table border=\"1\" class=\"dataframe\">\n",
       "  <thead>\n",
       "    <tr style=\"text-align: right;\">\n",
       "      <th></th>\n",
       "      <th>name</th>\n",
       "      <th>wholesale_price</th>\n",
       "      <th>retail_price</th>\n",
       "      <th>sales</th>\n",
       "    </tr>\n",
       "    <tr>\n",
       "      <th>product_id</th>\n",
       "      <th></th>\n",
       "      <th></th>\n",
       "      <th></th>\n",
       "      <th></th>\n",
       "    </tr>\n",
       "  </thead>\n",
       "  <tbody>\n",
       "    <tr>\n",
       "      <th>23</th>\n",
       "      <td>computer</td>\n",
       "      <td>500.0</td>\n",
       "      <td>1000</td>\n",
       "      <td>100</td>\n",
       "    </tr>\n",
       "    <tr>\n",
       "      <th>96</th>\n",
       "      <td>Python Workout</td>\n",
       "      <td>35.0</td>\n",
       "      <td>75</td>\n",
       "      <td>1000</td>\n",
       "    </tr>\n",
       "    <tr>\n",
       "      <th>97</th>\n",
       "      <td>Pandas Workout</td>\n",
       "      <td>35.0</td>\n",
       "      <td>75</td>\n",
       "      <td>500</td>\n",
       "    </tr>\n",
       "    <tr>\n",
       "      <th>15</th>\n",
       "      <td>banana</td>\n",
       "      <td>0.5</td>\n",
       "      <td>1</td>\n",
       "      <td>200</td>\n",
       "    </tr>\n",
       "    <tr>\n",
       "      <th>87</th>\n",
       "      <td>sandwich</td>\n",
       "      <td>3.0</td>\n",
       "      <td>5</td>\n",
       "      <td>300</td>\n",
       "    </tr>\n",
       "  </tbody>\n",
       "</table>\n",
       "</div>"
      ],
      "text/plain": [
       "                      name  wholesale_price  retail_price  sales\n",
       "product_id                                                      \n",
       "23                computer            500.0          1000    100\n",
       "96          Python Workout             35.0            75   1000\n",
       "97          Pandas Workout             35.0            75    500\n",
       "15                  banana              0.5             1    200\n",
       "87                sandwich              3.0             5    300"
      ]
     },
     "execution_count": 5,
     "metadata": {},
     "output_type": "execute_result"
    }
   ],
   "source": [
    "dataframe"
   ]
  },
  {
   "cell_type": "markdown",
   "id": "dd569b29",
   "metadata": {},
   "source": [
    "### Step 2:  Calculate the Total Profit for each product using the formula\n",
    "net_revenue_per_product = (retail_price - wholesale price) * sales"
   ]
  },
  {
   "cell_type": "code",
   "execution_count": 6,
   "id": "ca3dea97",
   "metadata": {},
   "outputs": [],
   "source": [
    "#finding net revenue per product\n",
    "df=dataframe\n",
    "df['net_revenue_per_product']=(df['retail_price']-df['wholesale_price'])*df['sales']"
   ]
  },
  {
   "cell_type": "code",
   "execution_count": 7,
   "id": "cac2042a",
   "metadata": {},
   "outputs": [
    {
     "data": {
      "text/html": [
       "<div>\n",
       "<style scoped>\n",
       "    .dataframe tbody tr th:only-of-type {\n",
       "        vertical-align: middle;\n",
       "    }\n",
       "\n",
       "    .dataframe tbody tr th {\n",
       "        vertical-align: top;\n",
       "    }\n",
       "\n",
       "    .dataframe thead th {\n",
       "        text-align: right;\n",
       "    }\n",
       "</style>\n",
       "<table border=\"1\" class=\"dataframe\">\n",
       "  <thead>\n",
       "    <tr style=\"text-align: right;\">\n",
       "      <th></th>\n",
       "      <th>name</th>\n",
       "      <th>wholesale_price</th>\n",
       "      <th>retail_price</th>\n",
       "      <th>sales</th>\n",
       "      <th>net_revenue_per_product</th>\n",
       "    </tr>\n",
       "    <tr>\n",
       "      <th>product_id</th>\n",
       "      <th></th>\n",
       "      <th></th>\n",
       "      <th></th>\n",
       "      <th></th>\n",
       "      <th></th>\n",
       "    </tr>\n",
       "  </thead>\n",
       "  <tbody>\n",
       "    <tr>\n",
       "      <th>23</th>\n",
       "      <td>computer</td>\n",
       "      <td>500.0</td>\n",
       "      <td>1000</td>\n",
       "      <td>100</td>\n",
       "      <td>50000.0</td>\n",
       "    </tr>\n",
       "    <tr>\n",
       "      <th>96</th>\n",
       "      <td>Python Workout</td>\n",
       "      <td>35.0</td>\n",
       "      <td>75</td>\n",
       "      <td>1000</td>\n",
       "      <td>40000.0</td>\n",
       "    </tr>\n",
       "    <tr>\n",
       "      <th>97</th>\n",
       "      <td>Pandas Workout</td>\n",
       "      <td>35.0</td>\n",
       "      <td>75</td>\n",
       "      <td>500</td>\n",
       "      <td>20000.0</td>\n",
       "    </tr>\n",
       "    <tr>\n",
       "      <th>15</th>\n",
       "      <td>banana</td>\n",
       "      <td>0.5</td>\n",
       "      <td>1</td>\n",
       "      <td>200</td>\n",
       "      <td>100.0</td>\n",
       "    </tr>\n",
       "    <tr>\n",
       "      <th>87</th>\n",
       "      <td>sandwich</td>\n",
       "      <td>3.0</td>\n",
       "      <td>5</td>\n",
       "      <td>300</td>\n",
       "      <td>600.0</td>\n",
       "    </tr>\n",
       "  </tbody>\n",
       "</table>\n",
       "</div>"
      ],
      "text/plain": [
       "                      name  wholesale_price  retail_price  sales  \\\n",
       "product_id                                                         \n",
       "23                computer            500.0          1000    100   \n",
       "96          Python Workout             35.0            75   1000   \n",
       "97          Pandas Workout             35.0            75    500   \n",
       "15                  banana              0.5             1    200   \n",
       "87                sandwich              3.0             5    300   \n",
       "\n",
       "            net_revenue_per_product  \n",
       "product_id                           \n",
       "23                          50000.0  \n",
       "96                          40000.0  \n",
       "97                          20000.0  \n",
       "15                            100.0  \n",
       "87                            600.0  "
      ]
     },
     "execution_count": 7,
     "metadata": {},
     "output_type": "execute_result"
    }
   ],
   "source": [
    "df"
   ]
  },
  {
   "cell_type": "markdown",
   "id": "e3b5bc1e",
   "metadata": {},
   "source": [
    "# Step 3: Determine the following\n",
    "How much total net revenue you received from all of these sales?"
   ]
  },
  {
   "cell_type": "code",
   "execution_count": 8,
   "id": "672c379a",
   "metadata": {},
   "outputs": [
    {
     "name": "stdout",
     "output_type": "stream",
     "text": [
      "110700.0\n"
     ]
    }
   ],
   "source": [
    "#Total net revenue\n",
    "total_net_revenue= sum(df['net_revenue_per_product'])\n",
    "print(total_net_revenue)"
   ]
  },
  {
   "cell_type": "markdown",
   "id": "f19ef50c",
   "metadata": {},
   "source": [
    "What product is product retail price more than twice the wholesale price?"
   ]
  },
  {
   "cell_type": "code",
   "execution_count": 14,
   "id": "ee9e3a2b",
   "metadata": {},
   "outputs": [
    {
     "name": "stdout",
     "output_type": "stream",
     "text": [
      "product_id\n",
      "23    False\n",
      "96     True\n",
      "97     True\n",
      "15    False\n",
      "87    False\n",
      "dtype: bool\n"
     ]
    }
   ],
   "source": [
    "condition=(df['wholesale_price']*2)<df['retail_price']\n",
    "print(condition)"
   ]
  },
  {
   "cell_type": "code",
   "execution_count": 10,
   "id": "58409444",
   "metadata": {},
   "outputs": [
    {
     "data": {
      "text/html": [
       "<div>\n",
       "<style scoped>\n",
       "    .dataframe tbody tr th:only-of-type {\n",
       "        vertical-align: middle;\n",
       "    }\n",
       "\n",
       "    .dataframe tbody tr th {\n",
       "        vertical-align: top;\n",
       "    }\n",
       "\n",
       "    .dataframe thead th {\n",
       "        text-align: right;\n",
       "    }\n",
       "</style>\n",
       "<table border=\"1\" class=\"dataframe\">\n",
       "  <thead>\n",
       "    <tr style=\"text-align: right;\">\n",
       "      <th></th>\n",
       "      <th>name</th>\n",
       "      <th>wholesale_price</th>\n",
       "      <th>retail_price</th>\n",
       "      <th>sales</th>\n",
       "      <th>net_revenue_per_product</th>\n",
       "    </tr>\n",
       "    <tr>\n",
       "      <th>product_id</th>\n",
       "      <th></th>\n",
       "      <th></th>\n",
       "      <th></th>\n",
       "      <th></th>\n",
       "      <th></th>\n",
       "    </tr>\n",
       "  </thead>\n",
       "  <tbody>\n",
       "    <tr>\n",
       "      <th>96</th>\n",
       "      <td>Python Workout</td>\n",
       "      <td>35.0</td>\n",
       "      <td>75</td>\n",
       "      <td>1000</td>\n",
       "      <td>40000.0</td>\n",
       "    </tr>\n",
       "    <tr>\n",
       "      <th>97</th>\n",
       "      <td>Pandas Workout</td>\n",
       "      <td>35.0</td>\n",
       "      <td>75</td>\n",
       "      <td>500</td>\n",
       "      <td>20000.0</td>\n",
       "    </tr>\n",
       "  </tbody>\n",
       "</table>\n",
       "</div>"
      ],
      "text/plain": [
       "                      name  wholesale_price  retail_price  sales  \\\n",
       "product_id                                                         \n",
       "96          Python Workout             35.0            75   1000   \n",
       "97          Pandas Workout             35.0            75    500   \n",
       "\n",
       "            net_revenue_per_product  \n",
       "product_id                           \n",
       "96                          40000.0  \n",
       "97                          20000.0  "
      ]
     },
     "execution_count": 10,
     "metadata": {},
     "output_type": "execute_result"
    }
   ],
   "source": [
    "df[condition]"
   ]
  },
  {
   "cell_type": "markdown",
   "id": "8f8c01b6",
   "metadata": {},
   "source": [
    "How much did the store make from food vs. computers vs. books?"
   ]
  },
  {
   "cell_type": "code",
   "execution_count": 11,
   "id": "4f1fd151",
   "metadata": {},
   "outputs": [
    {
     "name": "stderr",
     "output_type": "stream",
     "text": [
      "C:\\Users\\All of us\\AppData\\Local\\Temp\\ipykernel_34440\\316694263.py:2: FutureWarning: The default value of numeric_only in DataFrameGroupBy.sum is deprecated. In a future version, numeric_only will default to False. Either specify numeric_only or select only columns which should be valid for the function.\n",
      "  category=df.groupby(by=['Category']).sum()\n"
     ]
    },
    {
     "data": {
      "text/plain": [
       "Category\n",
       "books        60000.0\n",
       "computers    50000.0\n",
       "food           700.0\n",
       "Name: net_revenue_per_product, dtype: float64"
      ]
     },
     "execution_count": 11,
     "metadata": {},
     "output_type": "execute_result"
    }
   ],
   "source": [
    "df['Category']=['computers','books','books','food','food']\n",
    "category=df.groupby(by=['Category']).sum()\n",
    "category['net_revenue_per_product']"
   ]
  },
  {
   "cell_type": "markdown",
   "id": "89a502b7",
   "metadata": {},
   "source": [
    "Because your store is doing so well, you’re able to negotiate a 30% discount on the wholesale price of goods. Calculate the new net revenue"
   ]
  },
  {
   "cell_type": "code",
   "execution_count": 12,
   "id": "5795bc43",
   "metadata": {},
   "outputs": [],
   "source": [
    "#new wholesale price less 30%\n",
    "df['wholesale_less30%']= df['wholesale_price']*0.7"
   ]
  },
  {
   "cell_type": "code",
   "execution_count": 13,
   "id": "647e4985",
   "metadata": {},
   "outputs": [
    {
     "data": {
      "text/html": [
       "<div>\n",
       "<style scoped>\n",
       "    .dataframe tbody tr th:only-of-type {\n",
       "        vertical-align: middle;\n",
       "    }\n",
       "\n",
       "    .dataframe tbody tr th {\n",
       "        vertical-align: top;\n",
       "    }\n",
       "\n",
       "    .dataframe thead th {\n",
       "        text-align: right;\n",
       "    }\n",
       "</style>\n",
       "<table border=\"1\" class=\"dataframe\">\n",
       "  <thead>\n",
       "    <tr style=\"text-align: right;\">\n",
       "      <th></th>\n",
       "      <th>name</th>\n",
       "      <th>wholesale_price</th>\n",
       "      <th>retail_price</th>\n",
       "      <th>sales</th>\n",
       "      <th>net_revenue_per_product</th>\n",
       "      <th>Category</th>\n",
       "      <th>wholesale_less30%</th>\n",
       "    </tr>\n",
       "    <tr>\n",
       "      <th>product_id</th>\n",
       "      <th></th>\n",
       "      <th></th>\n",
       "      <th></th>\n",
       "      <th></th>\n",
       "      <th></th>\n",
       "      <th></th>\n",
       "      <th></th>\n",
       "    </tr>\n",
       "  </thead>\n",
       "  <tbody>\n",
       "    <tr>\n",
       "      <th>23</th>\n",
       "      <td>computer</td>\n",
       "      <td>500.0</td>\n",
       "      <td>1000</td>\n",
       "      <td>100</td>\n",
       "      <td>50000.0</td>\n",
       "      <td>computers</td>\n",
       "      <td>350.00</td>\n",
       "    </tr>\n",
       "    <tr>\n",
       "      <th>96</th>\n",
       "      <td>Python Workout</td>\n",
       "      <td>35.0</td>\n",
       "      <td>75</td>\n",
       "      <td>1000</td>\n",
       "      <td>40000.0</td>\n",
       "      <td>books</td>\n",
       "      <td>24.50</td>\n",
       "    </tr>\n",
       "    <tr>\n",
       "      <th>97</th>\n",
       "      <td>Pandas Workout</td>\n",
       "      <td>35.0</td>\n",
       "      <td>75</td>\n",
       "      <td>500</td>\n",
       "      <td>20000.0</td>\n",
       "      <td>books</td>\n",
       "      <td>24.50</td>\n",
       "    </tr>\n",
       "    <tr>\n",
       "      <th>15</th>\n",
       "      <td>banana</td>\n",
       "      <td>0.5</td>\n",
       "      <td>1</td>\n",
       "      <td>200</td>\n",
       "      <td>100.0</td>\n",
       "      <td>food</td>\n",
       "      <td>0.35</td>\n",
       "    </tr>\n",
       "    <tr>\n",
       "      <th>87</th>\n",
       "      <td>sandwich</td>\n",
       "      <td>3.0</td>\n",
       "      <td>5</td>\n",
       "      <td>300</td>\n",
       "      <td>600.0</td>\n",
       "      <td>food</td>\n",
       "      <td>2.10</td>\n",
       "    </tr>\n",
       "  </tbody>\n",
       "</table>\n",
       "</div>"
      ],
      "text/plain": [
       "                      name  wholesale_price  retail_price  sales  \\\n",
       "product_id                                                         \n",
       "23                computer            500.0          1000    100   \n",
       "96          Python Workout             35.0            75   1000   \n",
       "97          Pandas Workout             35.0            75    500   \n",
       "15                  banana              0.5             1    200   \n",
       "87                sandwich              3.0             5    300   \n",
       "\n",
       "            net_revenue_per_product   Category  wholesale_less30%  \n",
       "product_id                                                         \n",
       "23                          50000.0  computers             350.00  \n",
       "96                          40000.0      books              24.50  \n",
       "97                          20000.0      books              24.50  \n",
       "15                            100.0       food               0.35  \n",
       "87                            600.0       food               2.10  "
      ]
     },
     "execution_count": 13,
     "metadata": {},
     "output_type": "execute_result"
    }
   ],
   "source": [
    "df"
   ]
  },
  {
   "cell_type": "code",
   "execution_count": 13,
   "id": "299dd8f8",
   "metadata": {},
   "outputs": [
    {
     "data": {
      "text/html": [
       "<div>\n",
       "<style scoped>\n",
       "    .dataframe tbody tr th:only-of-type {\n",
       "        vertical-align: middle;\n",
       "    }\n",
       "\n",
       "    .dataframe tbody tr th {\n",
       "        vertical-align: top;\n",
       "    }\n",
       "\n",
       "    .dataframe thead th {\n",
       "        text-align: right;\n",
       "    }\n",
       "</style>\n",
       "<table border=\"1\" class=\"dataframe\">\n",
       "  <thead>\n",
       "    <tr style=\"text-align: right;\">\n",
       "      <th></th>\n",
       "      <th>name</th>\n",
       "      <th>wholesale_price</th>\n",
       "      <th>retail_price</th>\n",
       "      <th>sales</th>\n",
       "      <th>net_revenue_per_product</th>\n",
       "      <th>Category</th>\n",
       "      <th>wholesale_less30%</th>\n",
       "      <th>new_net_revenue_per_product</th>\n",
       "    </tr>\n",
       "    <tr>\n",
       "      <th>product_id</th>\n",
       "      <th></th>\n",
       "      <th></th>\n",
       "      <th></th>\n",
       "      <th></th>\n",
       "      <th></th>\n",
       "      <th></th>\n",
       "      <th></th>\n",
       "      <th></th>\n",
       "    </tr>\n",
       "  </thead>\n",
       "  <tbody>\n",
       "    <tr>\n",
       "      <th>23</th>\n",
       "      <td>computer</td>\n",
       "      <td>500.0</td>\n",
       "      <td>1000</td>\n",
       "      <td>100</td>\n",
       "      <td>50000.0</td>\n",
       "      <td>computers</td>\n",
       "      <td>350.00</td>\n",
       "      <td>65000.0</td>\n",
       "    </tr>\n",
       "    <tr>\n",
       "      <th>96</th>\n",
       "      <td>Python Workout</td>\n",
       "      <td>35.0</td>\n",
       "      <td>75</td>\n",
       "      <td>1000</td>\n",
       "      <td>40000.0</td>\n",
       "      <td>books</td>\n",
       "      <td>24.50</td>\n",
       "      <td>50500.0</td>\n",
       "    </tr>\n",
       "    <tr>\n",
       "      <th>97</th>\n",
       "      <td>Pandas Workout</td>\n",
       "      <td>35.0</td>\n",
       "      <td>75</td>\n",
       "      <td>500</td>\n",
       "      <td>20000.0</td>\n",
       "      <td>books</td>\n",
       "      <td>24.50</td>\n",
       "      <td>25250.0</td>\n",
       "    </tr>\n",
       "    <tr>\n",
       "      <th>15</th>\n",
       "      <td>banana</td>\n",
       "      <td>0.5</td>\n",
       "      <td>1</td>\n",
       "      <td>200</td>\n",
       "      <td>100.0</td>\n",
       "      <td>food</td>\n",
       "      <td>0.35</td>\n",
       "      <td>130.0</td>\n",
       "    </tr>\n",
       "    <tr>\n",
       "      <th>87</th>\n",
       "      <td>sandwich</td>\n",
       "      <td>3.0</td>\n",
       "      <td>5</td>\n",
       "      <td>300</td>\n",
       "      <td>600.0</td>\n",
       "      <td>food</td>\n",
       "      <td>2.10</td>\n",
       "      <td>870.0</td>\n",
       "    </tr>\n",
       "  </tbody>\n",
       "</table>\n",
       "</div>"
      ],
      "text/plain": [
       "                      name  wholesale_price  retail_price  sales  \\\n",
       "product_id                                                         \n",
       "23                computer            500.0          1000    100   \n",
       "96          Python Workout             35.0            75   1000   \n",
       "97          Pandas Workout             35.0            75    500   \n",
       "15                  banana              0.5             1    200   \n",
       "87                sandwich              3.0             5    300   \n",
       "\n",
       "            net_revenue_per_product   Category  wholesale_less30%  \\\n",
       "product_id                                                          \n",
       "23                          50000.0  computers             350.00   \n",
       "96                          40000.0      books              24.50   \n",
       "97                          20000.0      books              24.50   \n",
       "15                            100.0       food               0.35   \n",
       "87                            600.0       food               2.10   \n",
       "\n",
       "            new_net_revenue_per_product  \n",
       "product_id                               \n",
       "23                              65000.0  \n",
       "96                              50500.0  \n",
       "97                              25250.0  \n",
       "15                                130.0  \n",
       "87                                870.0  "
      ]
     },
     "execution_count": 13,
     "metadata": {},
     "output_type": "execute_result"
    }
   ],
   "source": [
    "df['new_net_revenue_per_product']=(df['retail_price']-df['wholesale_less30%'])*df['sales']\n",
    "df"
   ]
  },
  {
   "cell_type": "markdown",
   "id": "fcb54248",
   "metadata": {},
   "source": []
  }
 ],
 "metadata": {
  "kernelspec": {
   "display_name": "Python 3 (ipykernel)",
   "language": "python",
   "name": "python3"
  },
  "language_info": {
   "codemirror_mode": {
    "name": "ipython",
    "version": 3
   },
   "file_extension": ".py",
   "mimetype": "text/x-python",
   "name": "python",
   "nbconvert_exporter": "python",
   "pygments_lexer": "ipython3",
   "version": "3.10.2"
  }
 },
 "nbformat": 4,
 "nbformat_minor": 5
}
